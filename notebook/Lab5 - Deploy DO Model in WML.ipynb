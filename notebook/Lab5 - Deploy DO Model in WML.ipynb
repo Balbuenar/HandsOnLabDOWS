{
    "cells": [
        {
            "cell_type": "markdown",
            "metadata": {},
            "source": "## Deploying a Decision Optimization model with Watson Machine Learning\n\nThis notebook shows you how to deploy a Decision Optimization model, create and monitor jobs, and get solutions using the Watson Machine Learning Python Client.\n"
        },
        {
            "cell_type": "markdown",
            "metadata": {},
            "source": "## Table of Contents\n1. [Install the Watson Machine Learning client API](#setup)\n2. [Create a client instance](#create)\n3. [Prepare your model archive](#prepare)\n4. [Upload your model on Watson Machine Learning](#upload)\n5. [Create a deployment](#deploy)\n6. [Create and monitor a job with inline data for your deployed model](#job)\n7. [Display the solution](#display)\n8. [Summary](#summary)"
        },
        {
            "cell_type": "markdown",
            "metadata": {},
            "source": "<a id='setup'></a>\n### Set up the Watson Machine Learning client\n\nBefore you use the sample code in this notebook, you need to:\n\n- create a <a href=\"https://cloud.ibm.com/catalog/services/machine-learning\" target=\"_blank\" rel=\"noopener noreferrer\">Watson Machine Learning (WML) Service</a> instance. A free plan is offered and information about how to create the instance can be found at <a href=\"https://dataplatform.cloud.ibm.com/docs/content/wsj/analyze-data/ml-setup.html\" target=\"_blank\" rel=\"noopener noreferrer\"> https://dataplatform.cloud.ibm.com/docs/content/wsj/analyze-data/wml-setup.html.</a>\n"
        },
        {
            "cell_type": "markdown",
            "metadata": {},
            "source": "Install and then import the Watson Machine Learning client library. This notebook uses the preview Python client based on v4 of Watson Machine Learning APIs. \n\n**Important** Do not load both Python client libraries into a notebook."
        },
        {
            "cell_type": "code",
            "execution_count": 1,
            "metadata": {},
            "outputs": [
                {
                    "name": "stdout",
                    "output_type": "stream",
                    "text": "Uninstalling watson-machine-learning-client-1.0.376:\n  Successfully uninstalled watson-machine-learning-client-1.0.376\n"
                }
            ],
            "source": "# Uninstall the Watson Machine Learning client Python client based on v3 APIs\n\n!pip uninstall watson-machine-learning-client -y"
        },
        {
            "cell_type": "code",
            "execution_count": 2,
            "metadata": {
                "scrolled": true
            },
            "outputs": [
                {
                    "name": "stdout",
                    "output_type": "stream",
                    "text": "Collecting watson-machine-learning-client-V4\n\u001b[?25l  Downloading https://files.pythonhosted.org/packages/7b/9d/da6eb400c5674f60099f23fd259fa3703f70271b92446cda506d96965111/watson_machine_learning_client_V4-1.0.67-py3-none-any.whl (1.1MB)\n\u001b[K     |\u2588\u2588\u2588\u2588\u2588\u2588\u2588\u2588\u2588\u2588\u2588\u2588\u2588\u2588\u2588\u2588\u2588\u2588\u2588\u2588\u2588\u2588\u2588\u2588\u2588\u2588\u2588\u2588\u2588\u2588\u2588\u2588| 1.1MB 3.6MB/s eta 0:00:01\n\u001b[?25hRequirement already satisfied: tabulate in /opt/conda/envs/Python36/lib/python3.6/site-packages (from watson-machine-learning-client-V4) (0.8.2)\nRequirement already satisfied: requests in /opt/conda/envs/Python36/lib/python3.6/site-packages (from watson-machine-learning-client-V4) (2.21.0)\nRequirement already satisfied: lomond in /opt/conda/envs/Python36/lib/python3.6/site-packages (from watson-machine-learning-client-V4) (0.3.3)\nRequirement already satisfied: ibm-cos-sdk in /opt/conda/envs/Python36/lib/python3.6/site-packages (from watson-machine-learning-client-V4) (2.4.3)\nRequirement already satisfied: urllib3 in /opt/conda/envs/Python36/lib/python3.6/site-packages (from watson-machine-learning-client-V4) (1.24.1)\nRequirement already satisfied: pandas in /opt/conda/envs/Python36/lib/python3.6/site-packages (from watson-machine-learning-client-V4) (0.24.1)\nRequirement already satisfied: certifi in /opt/conda/envs/Python36/lib/python3.6/site-packages (from watson-machine-learning-client-V4) (2019.11.28)\nRequirement already satisfied: tqdm in /opt/conda/envs/Python36/lib/python3.6/site-packages (from watson-machine-learning-client-V4) (4.31.1)\nRequirement already satisfied: idna<2.9,>=2.5 in /opt/conda/envs/Python36/lib/python3.6/site-packages (from requests->watson-machine-learning-client-V4) (2.8)\nRequirement already satisfied: chardet<3.1.0,>=3.0.2 in /opt/conda/envs/Python36/lib/python3.6/site-packages (from requests->watson-machine-learning-client-V4) (3.0.4)\nRequirement already satisfied: six>=1.10.0 in /opt/conda/envs/Python36/lib/python3.6/site-packages (from lomond->watson-machine-learning-client-V4) (1.12.0)\nRequirement already satisfied: ibm-cos-sdk-s3transfer==2.*,>=2.0.0 in /opt/conda/envs/Python36/lib/python3.6/site-packages (from ibm-cos-sdk->watson-machine-learning-client-V4) (2.4.3)\nRequirement already satisfied: ibm-cos-sdk-core==2.*,>=2.0.0 in /opt/conda/envs/Python36/lib/python3.6/site-packages (from ibm-cos-sdk->watson-machine-learning-client-V4) (2.4.3)\nRequirement already satisfied: python-dateutil>=2.5.0 in /opt/conda/envs/Python36/lib/python3.6/site-packages (from pandas->watson-machine-learning-client-V4) (2.7.5)\nRequirement already satisfied: numpy>=1.12.0 in /opt/conda/envs/Python36/lib/python3.6/site-packages (from pandas->watson-machine-learning-client-V4) (1.15.4)\nRequirement already satisfied: pytz>=2011k in /opt/conda/envs/Python36/lib/python3.6/site-packages (from pandas->watson-machine-learning-client-V4) (2018.9)\nRequirement already satisfied: jmespath<1.0.0,>=0.7.1 in /opt/conda/envs/Python36/lib/python3.6/site-packages (from ibm-cos-sdk-core==2.*,>=2.0.0->ibm-cos-sdk->watson-machine-learning-client-V4) (0.9.3)\nRequirement already satisfied: docutils>=0.10 in /opt/conda/envs/Python36/lib/python3.6/site-packages (from ibm-cos-sdk-core==2.*,>=2.0.0->ibm-cos-sdk->watson-machine-learning-client-V4) (0.14)\nInstalling collected packages: watson-machine-learning-client-V4\nSuccessfully installed watson-machine-learning-client-V4-1.0.67\n"
                }
            ],
            "source": "# Install the WML client API\n\n!pip install watson-machine-learning-client-V4"
        },
        {
            "cell_type": "code",
            "execution_count": 3,
            "metadata": {
                "scrolled": false
            },
            "outputs": [],
            "source": "from watson_machine_learning_client import WatsonMachineLearningAPIClient"
        },
        {
            "cell_type": "markdown",
            "metadata": {},
            "source": "# Authenticate the Watson Machine Learning service on the IBM Cloud.\n\nTip: Authentication information (your credentials) can be found in the Service Credentials tab of the service instance that you created on the IBM Cloud. \nIf you cannot find the instance_id field in Service Credentials, click New credential (+) to generate new authentication information.\n\nAction: Enter your Watson Machine Learning service instance credentials here."
        },
        {
            "cell_type": "markdown",
            "metadata": {},
            "source": "<a id='create'></a>\n### Create a client instance\n\nUse your Watson Machine Learning credentials."
        },
        {
            "cell_type": "code",
            "execution_count": 4,
            "metadata": {},
            "outputs": [],
            "source": "# Instantiate a client using credentials\nwml_credentials = {\n      \"apikey\": \"xxxxxxxxxxx\",\n      \"instance_id\": \"xxxxxxxxxx\",\n      \"url\": \"xxxxxxxxxx\",\n}\n\nclient = WatsonMachineLearningAPIClient(wml_credentials)"
        },
        {
            "cell_type": "code",
            "execution_count": 5,
            "metadata": {
                "scrolled": true
            },
            "outputs": [
                {
                    "data": {
                        "text/plain": "'1.0.67'"
                    },
                    "execution_count": 5,
                    "metadata": {},
                    "output_type": "execute_result"
                }
            ],
            "source": "client.version"
        },
        {
            "cell_type": "markdown",
            "metadata": {},
            "source": "<a id='prepare'></a>\n### Prepare your model archive\n\nPut the model.py file in a subdirectory and create a tar.gz file. The model consists of two parts:\n* some functions to create an `inputs` dictionary from files and create files from an `outputs` dictionary,\n* the real optimization model which uses the inputs and outputs dictionaries.\n\nUse the `write_file` command to write these models to a `main.py` file. \n\nUse the `tar` command to create a tar archive."
        },
        {
            "cell_type": "code",
            "execution_count": 6,
            "metadata": {
                "scrolled": true
            },
            "outputs": [],
            "source": "%mkdir model"
        },
        {
            "cell_type": "code",
            "execution_count": 7,
            "metadata": {},
            "outputs": [
                {
                    "name": "stdout",
                    "output_type": "stream",
                    "text": "Writing model/main.py\n"
                }
            ],
            "source": "%%writefile model/main.py\n\nfrom docplex.util.environment import get_environment\nfrom os.path import splitext\nimport pandas\nfrom six import iteritems\n\ndef get_all_inputs():\n    '''Utility method to read a list of files and return a tuple with all\n    read data frames.\n    Returns:\n        a map { datasetname: data frame }\n    '''\n    result = {}\n    env = get_environment()\n    for iname in [f for f in os.listdir('.') if splitext(f)[1] == '.csv']:\n        with env.get_input_stream(iname) as in_stream:\n            df = pandas.read_csv(in_stream)\n            datasetname, _ = splitext(iname)\n            result[datasetname] = df\n    return result\n\ndef write_all_outputs(outputs):\n    '''Write all dataframes in ``outputs`` as .csv.\n\n    Args:\n        outputs: The map of outputs 'outputname' -> 'output df'\n    '''\n    for (name, df) in iteritems(outputs):\n        csv_file = '%s.csv' % name\n        print(csv_file)\n        with get_environment().get_output_stream(csv_file) as fp:\n            if sys.version_info[0] < 3:\n                fp.write(df.to_csv(index=False, encoding='utf8'))\n            else:\n                fp.write(df.to_csv(index=False).encode(encoding='utf8'))\n    if len(outputs) == 0:\n        print(\"Warning: no outputs written\")\n        "
        },
        {
            "cell_type": "code",
            "execution_count": 8,
            "metadata": {},
            "outputs": [
                {
                    "name": "stdout",
                    "output_type": "stream",
                    "text": "Appending to model/main.py\n"
                }
            ],
            "source": "%%writefile -a model/main.py\n\n\n\ndef __iter__(self): return 0\n# Load CSV files into inputs dictionnary\ninputs = get_all_inputs()\n\n\nimport types\nimport pandas as pd\n\noffers = inputs['offers']\noffers = offers.loc[offers['nb_products'] >= 1]\n\n\n# How much revenue is earned when selling each product\nproducts = [\"Savings\", \"Mortgage\", \"Pension\"]\nproductValue = [200, 300, 400]\nvalue_per_product = {products[i] : productValue[i] for i in range(len(products))}\n\n# Total available budget\navailableBudget = 25000\n\n# For each channel, cost of making a marketing action and success factor\nchannels =  pd.DataFrame(data=[(\"gift\", 20.0, 0.20), \n                               (\"newsletter\", 15.0, 0.05), \n                               (\"seminar\", 23.0, 0.30)], columns=[\"name\", \"cost\", \"factor\"])\n\noffersR = range(0, len(offers))\nproductsR = range(0, len(products))\nchannelsR = range(0, len(channels))\n\n\nfrom docplex.mp.model import Model\n\nmdl = Model(\"marketing_campaign\")\n\n\n# #### Define the decision variables\n# - The integer decision variables `channelVars`, represent whether or not a customer will be made an offer for a particular product via a particular channel.\n# - The integer decision variable `totaloffers` represents the total number of offers made.\n# - The continuous variable `budgetSpent` represents the total cost of the offers made\n\n\nchannelVars = mdl.binary_var_cube(offersR, productsR, channelsR)\ntotaloffers = mdl.integer_var(lb=0)\nbudgetSpent = mdl.continuous_var()\n\n\n# #### Set up the constraints\n# - Offer only one product per customer.\n# - Compute the budget and set a maximum for it.\n# - Compute the number of offers to be made.\n\n# In[26]:\n\n\n# At most 1 product is offered to each customer\nmdl.add_constraints( mdl.sum(channelVars[o,p,c] for p in productsR for c in channelsR) <=1\n                   for o in offersR)\n\n# Do not exceed the budget\nmdl.add_constraint( mdl.sum(channelVars[o,p,c]*channels.at[c, \"cost\"]\n                                           for o in offersR \n                                           for p in productsR \n                                           for c in channelsR)  <= availableBudget, \"budget\")  \n\n# At least 10% offers per channel\nfor c in channelsR:\n    mdl.add_constraint(mdl.sum(channelVars[o,p,c] for p in productsR for o in offersR) >= len(offers) // 10)\n\nmdl.print_information()\n\n\n# In[27]:\n\n\noffers.reset_index(inplace=True)\n\n\n# #### Express the objective\n# \n# Maximize the expected revenue.\n\n# In[28]:\n\n\nobj = 0\n\nfor c in channelsR:\n    for p in productsR:\n        product=products[p]\n        coef = channels.at[c,\"factor\"] * value_per_product[product]\n        obj += mdl.sum(channelVars[o,p,c] * coef* offers.at[o, product] for o in offersR)\n\nmdl.maximize(obj)\n\n\n# #### Solve with Decision Optimization\n# \n# Depending on the size of the problem, the solve stage might fail and require the Commercial Edition of CPLEX engines, which is included in the premium environments in Watson Studio.\n\n# In[29]:\n\n\ns = mdl.solve()\nassert s, \"No Solution !!!\"\n\nprint(mdl.get_solve_status())\nprint(mdl.get_solve_details())\n\ntotaloffers = mdl.sum(channelVars[o,p,c] \n                      for o in offersR\n                      for p in productsR \n                      for c in channelsR)\n\nmdl.add_kpi(totaloffers, \"nb offers\")\n\nbudgetSpent = mdl.sum(channelVars[o,p,c]*channels.at[c,\"cost\"]\n                                           for o in offersR \n                                           for p in productsR \n                                           for c in channelsR)\nmdl.add_kpi(budgetSpent, \"budget Spent\")\n\nfor c in channelsR:\n    channel = channels.at[c,\"name\"]\n    kpi = mdl.sum(channelVars[o,p,c] for p in productsR for o in offersR)\n    mdl.add_kpi(kpi, channel)\n    \nfor p in productsR:\n    product = products[p]\n    kpi = mdl.sum(channelVars[o,p,c] for c in channelsR for o in offersR)\n    mdl.add_kpi(kpi, product)\n    \nall_kpis = [(kp.name, kp.compute()) for kp in mdl.iter_kpis()]\n\nkpis_bd = pd.DataFrame(all_kpis, columns=['kpi', 'value'])\n\nmdl.report()\n\nreport = [(offers.at[o, \"id\"],channels.at[n, \"name\"], products[p],channels.at[c, \"cost\"]) \n          for c in channelsR\n          for n in channelsR\n          for p in productsR \n          for o in offersR  if channelVars[o,p,c].solution_value==1]\n\nprint(\"Marketing plan has {0} offers costing {1}\".format(totaloffers.solution_value, budgetSpent.solution_value))\n\nreport_bd = pd.DataFrame(report, columns=['customer_id','channel', 'product','cost'])\n    \noutputs = {}\noutputs['kpis'] = kpis_bd\noutputs['solution'] = report_bd\n\n# Generate output files\nwrite_all_outputs(outputs)"
        },
        {
            "cell_type": "code",
            "execution_count": 9,
            "metadata": {},
            "outputs": [],
            "source": "import tarfile\ndef reset(tarinfo):\n    tarinfo.uid = tarinfo.gid = 0\n    tarinfo.uname = tarinfo.gname = \"root\"\n    return tarinfo\ntar = tarfile.open(\"model.tar.gz\", \"w:gz\")\ntar.add(\"model/main.py\", arcname=\"main.py\", filter=reset)\ntar.close()"
        },
        {
            "cell_type": "markdown",
            "metadata": {},
            "source": "<a id='upload'></a>\n### Upload your model on Watson Machine Learning\n\nStore model in Watson Machine Learning with:\n* the tar archive previously created,\n* metadata including the model type and runtime\n\nGet the `model_uid`."
        },
        {
            "cell_type": "code",
            "execution_count": 10,
            "metadata": {},
            "outputs": [],
            "source": "# All available runtimes\n\n#client.runtimes.list(pre_defined=True)"
        },
        {
            "cell_type": "code",
            "execution_count": 11,
            "metadata": {},
            "outputs": [
                {
                    "name": "stdout",
                    "output_type": "stream",
                    "text": "952b1af4-00a2-414e-ae10-20587cc97827\n"
                }
            ],
            "source": "mnist_metadata = {\n    client.repository.ModelMetaNames.NAME: \"MarketCampaignOpti\",\n    client.repository.ModelMetaNames.DESCRIPTION: \"Model for Optimization\",\n    client.repository.ModelMetaNames.TYPE: \"do-docplex_12.9\",\n    client.repository.ModelMetaNames.RUNTIME_UID: \"do_12.9\"    \n}\n\nmodel_details = client.repository.store_model(model='/home/dsxuser/work/model.tar.gz', meta_props=mnist_metadata)\n\nmodel_uid = client.repository.get_model_uid(model_details)\n\nprint( model_uid )"
        },
        {
            "cell_type": "markdown",
            "metadata": {},
            "source": "<a id='deploy'></a>\n### Create a deployment \n\nCreate a batch deployment for the model, providing information such as:\n* the maximum number of compute nodes\n* the T-shirt size of the compute nodes\n\nGet the `deployment_uid`."
        },
        {
            "cell_type": "code",
            "execution_count": 12,
            "metadata": {},
            "outputs": [
                {
                    "name": "stdout",
                    "output_type": "stream",
                    "text": "\n\n#######################################################################################\n\nSynchronous deployment creation for uid: '952b1af4-00a2-414e-ae10-20587cc97827' started\n\n#######################################################################################\n\n\nready.\n\n\n------------------------------------------------------------------------------------------------\nSuccessfully finished deployment creation, deployment_uid='7628aa36-1aae-4a1d-bd03-2c16732ec5ea'\n------------------------------------------------------------------------------------------------\n\n\n7628aa36-1aae-4a1d-bd03-2c16732ec5ea\n"
                }
            ],
            "source": "meta_props = {\n    client.deployments.ConfigurationMetaNames.NAME: \"MarketCampaign Optimization\",\n    client.deployments.ConfigurationMetaNames.DESCRIPTION: \"Marketing Deployment Model\",\n    client.deployments.ConfigurationMetaNames.BATCH: {},\n    client.deployments.ConfigurationMetaNames.COMPUTE: {'name': 'S', 'nodes': 1}\n}\n\ndeployment_details = client.deployments.create(model_uid, meta_props=meta_props)\n\ndeployment_uid = client.deployments.get_uid(deployment_details)\n\nprint( deployment_uid )"
        },
        {
            "cell_type": "code",
            "execution_count": 13,
            "metadata": {
                "scrolled": false
            },
            "outputs": [
                {
                    "name": "stdout",
                    "output_type": "stream",
                    "text": "------------------------------------  ---------------------------  -----  ------------------------  -------------\nGUID                                  NAME                         STATE  CREATED                   ARTIFACT_TYPE\n7628aa36-1aae-4a1d-bd03-2c16732ec5ea  MarketCampaign Optimization  ready  2020-04-08T16:11:42.110Z  model\n985acd69-ca73-4065-9d97-2265b5e326ad  MarketCampaign Notebook      ready  2020-04-07T15:24:14.336Z  model\n60275fa2-47a1-4de8-a6a1-ce15020ec4e0  WarehouseLP                  ready  2019-11-18T19:17:29.584Z  model\n24bff782-6e87-4cf3-ad42-192241eacebb  Warehouse Deployment         ready  2019-11-15T14:24:18.688Z  model\n4ee06bea-0341-453f-abbb-f619164ec833  CustHist                     ready  2019-10-01T01:16:00.524Z  model\nb3d7292a-2eff-4fdf-9214-b14cae4135c1  PredictOffer                 ready  2019-09-30T11:38:15.369Z  model\na6ba97db-c734-46e0-ab6e-3e959ab04196  SPSSOfferPrediction          ready  2019-09-20T18:45:27.024Z  model\n4041479e-947f-430e-9398-fcc9865db548  PredictChannel               ready  2019-09-20T18:44:51.609Z  model\n------------------------------------  ---------------------------  -----  ------------------------  -------------\n"
                }
            ],
            "source": "# List all existing deployments\n\nclient.deployments.list()"
        },
        {
            "cell_type": "code",
            "execution_count": 14,
            "metadata": {},
            "outputs": [],
            "source": "#client.deployments.delete('f4788184-f92c-4dbe-9212-a07e2e016728')"
        },
        {
            "cell_type": "markdown",
            "metadata": {},
            "source": "### <a id='job'></a>\n### Create and monitor a job with inline data for your deployed model\n\nCreate a payload containing s3 input data.\n\nCreate a new job with this payload and the deployment.\n\nGet the `job_uid`."
        },
        {
            "cell_type": "code",
            "execution_count": 15,
            "metadata": {},
            "outputs": [],
            "source": "solve_payload = {\n    client.deployments.DecisionOptimizationMetaNames.INPUT_DATA_REFERENCES: [\n            {\n                \"id\":\"offers.csv\",\n                \"type\": \"s3\",\n                \"connection\": {\n                    \"endpoint_url\": \"https://s3-api.us-geo.objectstorage.service.networklayer.com\",\n                    \"access_key_id\": \"4d721ede2d164f319e3c94b47b55f20b\",\n                    \"secret_access_key\": \"87a7709705535308917d312cdafea49ce1d86102aa86f7f7\"\n                },\n                \"location\": {\n                    \"bucket\": \"marketcampaign-donotdelete-pr-jv0t7co85w5hif\",\n                    \"path\": \"offers.csv\"\n                }   \n            }\n    ],\n    client.deployments.DecisionOptimizationMetaNames.OUTPUT_DATA: [\n        {\n            \"id\":\".*\\.csv\"\n        }\n    ]\n}"
        },
        {
            "cell_type": "code",
            "execution_count": 16,
            "metadata": {
                "scrolled": true
            },
            "outputs": [
                {
                    "name": "stdout",
                    "output_type": "stream",
                    "text": "7d33fb9f-9124-4730-86c4-1d0bb1c8d8e0\n"
                }
            ],
            "source": "job_details = client.deployments.create_job(deployment_uid, solve_payload)\njob_uid = client.deployments.get_job_uid(job_details)\n\nprint( job_uid )"
        },
        {
            "cell_type": "markdown",
            "metadata": {},
            "source": "Display job status until it is completed.\n\nThe first job of a new deployment might take some time as a compute node must be started."
        },
        {
            "cell_type": "code",
            "execution_count": 17,
            "metadata": {},
            "outputs": [
                {
                    "name": "stdout",
                    "output_type": "stream",
                    "text": "queued...\nqueued...\nqueued...\nqueued...\nqueued...\nrunning...\nrunning...\ncompleted\n"
                }
            ],
            "source": "from time import sleep\n\nwhile job_details['entity']['decision_optimization']['status']['state'] not in ['completed', 'failed', 'canceled']:\n    print(job_details['entity']['decision_optimization']['status']['state'] + '...')\n    sleep(5)\n    job_details=client.deployments.get_job_details(job_uid)\n\nprint( job_details['entity']['decision_optimization']['status']['state'])"
        },
        {
            "cell_type": "code",
            "execution_count": 18,
            "metadata": {},
            "outputs": [
                {
                    "name": "stdout",
                    "output_type": "stream",
                    "text": "{'state': 'completed', 'running_at': '2020-04-08T16:12:16.355Z', 'completed_at': '2020-04-08T16:12:22.042Z'}\n"
                }
            ],
            "source": "print( job_details['entity']['decision_optimization']['status'])"
        },
        {
            "cell_type": "markdown",
            "metadata": {},
            "source": "<a id='display'></a>\n### Extract and display solution\n\nDisplay the output solution."
        },
        {
            "cell_type": "code",
            "execution_count": 19,
            "metadata": {},
            "outputs": [],
            "source": "import pandas as pd"
        },
        {
            "cell_type": "code",
            "execution_count": 20,
            "metadata": {
                "scrolled": true
            },
            "outputs": [
                {
                    "data": {
                        "text/html": "<div>\n<style scoped>\n    .dataframe tbody tr th:only-of-type {\n        vertical-align: middle;\n    }\n\n    .dataframe tbody tr th {\n        vertical-align: top;\n    }\n\n    .dataframe thead th {\n        text-align: right;\n    }\n</style>\n<table border=\"1\" class=\"dataframe\">\n  <thead>\n    <tr style=\"text-align: right;\">\n      <th></th>\n      <th>kpi</th>\n      <th>value</th>\n    </tr>\n  </thead>\n  <tbody>\n    <tr>\n      <th>0</th>\n      <td>nb offers</td>\n      <td>1123</td>\n    </tr>\n    <tr>\n      <th>1</th>\n      <td>budget Spent</td>\n      <td>24597</td>\n    </tr>\n    <tr>\n      <th>2</th>\n      <td>gift</td>\n      <td>112</td>\n    </tr>\n    <tr>\n      <th>3</th>\n      <td>newsletter</td>\n      <td>112</td>\n    </tr>\n    <tr>\n      <th>4</th>\n      <td>seminar</td>\n      <td>899</td>\n    </tr>\n  </tbody>\n</table>\n</div>",
                        "text/plain": "            kpi  value\n0     nb offers   1123\n1  budget Spent  24597\n2          gift    112\n3    newsletter    112\n4       seminar    899"
                    },
                    "execution_count": 20,
                    "metadata": {},
                    "output_type": "execute_result"
                }
            ],
            "source": "# Create a dataframe for the solution\nsolution = pd.DataFrame(job_details['entity']['decision_optimization']['output_data'][0]['values'], \n                        columns = job_details['entity']['decision_optimization']['output_data'][0]['fields'])\nsolution.head()"
        },
        {
            "cell_type": "code",
            "execution_count": 21,
            "metadata": {},
            "outputs": [
                {
                    "data": {
                        "text/html": "<div>\n<style scoped>\n    .dataframe tbody tr th:only-of-type {\n        vertical-align: middle;\n    }\n\n    .dataframe tbody tr th {\n        vertical-align: top;\n    }\n\n    .dataframe thead th {\n        text-align: right;\n    }\n</style>\n<table border=\"1\" class=\"dataframe\">\n  <thead>\n    <tr style=\"text-align: right;\">\n      <th></th>\n      <th>customer_id</th>\n      <th>channel</th>\n      <th>product</th>\n      <th>cost</th>\n    </tr>\n  </thead>\n  <tbody>\n    <tr>\n      <th>0</th>\n      <td>55728</td>\n      <td>gift</td>\n      <td>Savings</td>\n      <td>20</td>\n    </tr>\n    <tr>\n      <th>1</th>\n      <td>94027</td>\n      <td>gift</td>\n      <td>Savings</td>\n      <td>20</td>\n    </tr>\n    <tr>\n      <th>2</th>\n      <td>56258</td>\n      <td>gift</td>\n      <td>Savings</td>\n      <td>20</td>\n    </tr>\n    <tr>\n      <th>3</th>\n      <td>58943</td>\n      <td>gift</td>\n      <td>Savings</td>\n      <td>20</td>\n    </tr>\n    <tr>\n      <th>4</th>\n      <td>49240</td>\n      <td>gift</td>\n      <td>Savings</td>\n      <td>20</td>\n    </tr>\n  </tbody>\n</table>\n</div>",
                        "text/plain": "   customer_id channel  product  cost\n0        55728    gift  Savings    20\n1        94027    gift  Savings    20\n2        56258    gift  Savings    20\n3        58943    gift  Savings    20\n4        49240    gift  Savings    20"
                    },
                    "execution_count": 21,
                    "metadata": {},
                    "output_type": "execute_result"
                }
            ],
            "source": "# Create a dataframe for the solution\nsolution_report = pd.DataFrame(job_details['entity']['decision_optimization']['output_data'][1]['values'], \n                        columns = job_details['entity']['decision_optimization']['output_data'][1]['fields'])\nsolution_report.head()"
        },
        {
            "cell_type": "code",
            "execution_count": 22,
            "metadata": {},
            "outputs": [
                {
                    "data": {
                        "text/plain": "'SUCCESS'"
                    },
                    "execution_count": 22,
                    "metadata": {},
                    "output_type": "execute_result"
                }
            ],
            "source": "#Delete deployment model\nclient.deployments.delete(deployment_uid)"
        },
        {
            "cell_type": "markdown",
            "metadata": {},
            "source": "<a id='summary'></a>\n### Summary and next steps"
        },
        {
            "cell_type": "markdown",
            "metadata": {},
            "source": "You successfully completed this notebook! \n\nYou've learned how to:\n\n- work with the Watson Machine Learning client\n- prepare your model archive and upload your model on Watson Machine Learning\n- create a deployment\n- create and monitor a job with inline data for your deployed model\n- display the solution\n\nCheck out our online documentation at <a href=\"https://dataplatform.cloud.ibm.com/docs\" target=\"_blank\" rel=\"noopener noreferrer\">https://dataplatform.cloud.ibm.com/docs</a> for more samples, tutorials and documentation. "
        },
        {
            "cell_type": "markdown",
            "metadata": {},
            "source": "<hr>\nCopyright \u00a9 2019. This notebook and its source code are released under the terms of the MIT License."
        },
        {
            "cell_type": "markdown",
            "metadata": {},
            "source": "<div style=\"background:#F5F7FA; height:110px; padding: 2em; font-size:14px;\">\n<span style=\"font-size:18px;color:#152935;\">Love this notebook? </span>\n<span style=\"font-size:15px;color:#152935;float:right;margin-right:40px;\">Don't have an account yet?</span><br>\n<span style=\"color:#5A6872;\">Share it with your colleagues and help them discover the power of Watson Studio!</span>\n<span style=\"border: 1px solid #3d70b2;padding:8px;float:right;margin-right:40px; color:#3d70b2;\"><a href=\"https://ibm.co/wsnotebooks\" target=\"_blank\" style=\"color: #3d70b2;text-decoration: none;\">Sign Up</a></span><br>\n</div>"
        }
    ],
    "metadata": {
        "kernelspec": {
            "display_name": "Python 3.6",
            "language": "python",
            "name": "python3"
        },
        "language_info": {
            "codemirror_mode": {
                "name": "ipython",
                "version": 3
            },
            "file_extension": ".py",
            "mimetype": "text/x-python",
            "name": "python",
            "nbconvert_exporter": "python",
            "pygments_lexer": "ipython3",
            "version": "3.6.9"
        }
    },
    "nbformat": 4,
    "nbformat_minor": 1
}