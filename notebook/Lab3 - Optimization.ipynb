{
    "cells": [
        {
            "cell_type": "markdown",
            "metadata": {},
            "source": "# How to make targeted offers to customers\n\nThis tutorial includes everything you need to set up IBM Decision Optimization CPLEX Modeling for Python (DOcplex), build a Mathematical Programming model, and get its solution by solving the model with IBM ILOG CPLEX Optimizer.\n\nTable of contents:\n\n-  [Describe the business problem](#Describe-the-business-problem)\n*  [How decision optimization (prescriptive analytics) can help](#How-decision-optimization-can-help)\n*  [Prepare the data](#Prepare-the-data)\n*  [Use decision optimization](#Use-IBM-Decision-Optimization-CPLEX-Modeling-for-Python)\n    -  [Step 1: Set up the prescriptive model](#Step-1:-Set-up-the-prescriptive-model)\n        * [Define the decision variables](#Define-the-decision-variables)\n        * [Set up the constraints](#Set-up-the-constraints)\n        * [Express the objective](#Express-the-objective)\n        * [Solve with Decision Optimization](#Solve-with-Decision-Optimization)\n    *  [Step 2: Analyze the solution](#Step-2:-Analyze-the-solution)\n"
        },
        {
            "cell_type": "markdown",
            "metadata": {},
            "source": "## Describe the business problem\n\n* This example is based on a fictional banking company. \n* The marketing department wants to achieve more profitable results in future campaigns by matching the right offer of financial services to each customer. \n* In particular, the data science department identified the characteristics of customers who are most likely to respond favorably based on previous offers and responses and to promote the best current offer based on the results and now need to compute the best offering plan.\n<br>\n\nA set of business constraints have to be respected:\n\n* You have a limited budget to run a marketing campaign based on \"gifts\", \"newsletter\", \"seminar\"...\n* You want to determine which is the best way to contact the customers.\n* You need to identify which customers to contact."
        },
        {
            "cell_type": "markdown",
            "metadata": {},
            "source": "<a id=\"#How-decision-optimization-can-help\"></a>\n## How decision optimization can help\n\n* Prescriptive analytics technology recommends actions based on desired outcomes, taking into account specific scenarios, resources, and knowledge of past and current events. This insight can help your organization make better decisions and have greater control of business outcomes.  \n\n* Prescriptive analytics is the next step on the path to insight-based actions. It creates value through synergy with predictive analytics, which analyzes data to predict future outcomes.  \n\n* Prescriptive analytics takes that insight to the next level by suggesting the optimal way to handle that future situation. Organizations that can act fast in dynamic conditions and make superior decisions in uncertain environments gain a strong competitive advantage.  \n<br/>\n\n+ For example:\n    + Automate complex decisions and trade-offs to better manage limited resources.\n    + Take advantage of a future opportunity or mitigate a future risk.\n    + Proactively update recommendations based on changing events.\n    + Meet operational goals, increase customer loyalty, prevent threats and fraud, and optimize business processes."
        },
        {
            "cell_type": "markdown",
            "metadata": {},
            "source": "<a id=\"#Prepare-the-data\"></a>\n\n## Prepare the data"
        },
        {
            "cell_type": "code",
            "execution_count": 1,
            "metadata": {},
            "outputs": [
                {
                    "data": {
                        "text/html": "<div>\n<style scoped>\n    .dataframe tbody tr th:only-of-type {\n        vertical-align: middle;\n    }\n\n    .dataframe tbody tr th {\n        vertical-align: top;\n    }\n\n    .dataframe thead th {\n        text-align: right;\n    }\n</style>\n<table border=\"1\" class=\"dataframe\">\n  <thead>\n    <tr style=\"text-align: right;\">\n      <th></th>\n      <th>age</th>\n      <th>income</th>\n      <th>members_in_household</th>\n      <th>loan_accounts</th>\n      <th>Savings</th>\n      <th>Mortgage</th>\n      <th>Pension</th>\n      <th>id</th>\n      <th>nb_products</th>\n    </tr>\n  </thead>\n  <tbody>\n    <tr>\n      <th>0</th>\n      <td>38</td>\n      <td>47958.0</td>\n      <td>4</td>\n      <td>1</td>\n      <td>0</td>\n      <td>0</td>\n      <td>0</td>\n      <td>44256</td>\n      <td>0</td>\n    </tr>\n    <tr>\n      <th>1</th>\n      <td>30</td>\n      <td>48606.0</td>\n      <td>2</td>\n      <td>4</td>\n      <td>0</td>\n      <td>0</td>\n      <td>0</td>\n      <td>46883</td>\n      <td>0</td>\n    </tr>\n    <tr>\n      <th>2</th>\n      <td>41</td>\n      <td>42152.0</td>\n      <td>4</td>\n      <td>0</td>\n      <td>0</td>\n      <td>0</td>\n      <td>0</td>\n      <td>32387</td>\n      <td>0</td>\n    </tr>\n    <tr>\n      <th>3</th>\n      <td>42</td>\n      <td>39788.0</td>\n      <td>3</td>\n      <td>3</td>\n      <td>0</td>\n      <td>0</td>\n      <td>0</td>\n      <td>25504</td>\n      <td>0</td>\n    </tr>\n    <tr>\n      <th>4</th>\n      <td>42</td>\n      <td>44365.0</td>\n      <td>6</td>\n      <td>2</td>\n      <td>0</td>\n      <td>1</td>\n      <td>0</td>\n      <td>35979</td>\n      <td>1</td>\n    </tr>\n  </tbody>\n</table>\n</div>",
                        "text/plain": "   age   income  members_in_household  loan_accounts  Savings  Mortgage  \\\n0   38  47958.0                     4              1        0         0   \n1   30  48606.0                     2              4        0         0   \n2   41  42152.0                     4              0        0         0   \n3   42  39788.0                     3              3        0         0   \n4   42  44365.0                     6              2        0         1   \n\n   Pension     id  nb_products  \n0        0  44256            0  \n1        0  46883            0  \n2        0  32387            0  \n3        0  25504            0  \n4        0  35979            1  "
                    },
                    "execution_count": 1,
                    "metadata": {},
                    "output_type": "execute_result"
                }
            ],
            "source": "# The code was removed by Watson Studio for sharing."
        },
        {
            "cell_type": "code",
            "execution_count": 2,
            "metadata": {},
            "outputs": [],
            "source": "offers = df_data_1.loc[df_data_1['nb_products'] >= 1]"
        },
        {
            "cell_type": "markdown",
            "metadata": {},
            "source": "### Assign campaigns to customers\nYou have a prediction of who will buy what in the list of new customers.\nHowever, you do not have the budget to contact all of them. You have various contact channels with different costs and effectiveness.\nFurthermore, if you contact a customer you want to propose only one product per customer.\nSome input data for optimization"
        },
        {
            "cell_type": "code",
            "execution_count": 3,
            "metadata": {},
            "outputs": [],
            "source": "# How much revenue is earned when selling each product\nproducts = [\"Savings\", \"Mortgage\", \"Pension\"]\nproductValue = [200, 300, 400]\nvalue_per_product = {products[i] : productValue[i] for i in range(len(products))}\n\n# Total available budget\navailableBudget = 25000\n\n# For each channel, cost of making a marketing action and success factor\nchannels =  pd.DataFrame(data=[(\"gift\", 20.0, 0.20), \n                               (\"newsletter\", 15.0, 0.05), \n                               (\"seminar\", 23.0, 0.30)], columns=[\"name\", \"cost\", \"factor\"])\n\noffersR = range(0, len(offers))\nproductsR = range(0, len(products))\nchannelsR = range(0, len(channels))"
        },
        {
            "cell_type": "markdown",
            "metadata": {},
            "source": "## Use IBM Decision Optimization CPLEX Modeling for Python\n\nCreate the optimization model to select the best ways to contact customers and stay within the limited budget."
        },
        {
            "cell_type": "markdown",
            "metadata": {},
            "source": "### Step 1: Set up the prescriptive model\n\nSet up the prescriptive model using the Mathematical Programming (docplex.mp) modeling package. \n\n#### Create the model"
        },
        {
            "cell_type": "code",
            "execution_count": 4,
            "metadata": {},
            "outputs": [],
            "source": "from docplex.mp.model import Model\n\nmdl = Model(name=\"marketing_campaign\")"
        },
        {
            "cell_type": "markdown",
            "metadata": {},
            "source": "#### Define the decision variables\n- The integer decision variables `channelVars`, represent whether or not a customer will be made an offer for a particular product via a particular channel.\n- The integer decision variable `totaloffers` represents the total number of offers made.\n- The continuous variable `budgetSpent` represents the total cost of the offers made."
        },
        {
            "cell_type": "code",
            "execution_count": 5,
            "metadata": {},
            "outputs": [],
            "source": "channelVars = mdl.binary_var_cube(offersR, productsR, channelsR)\ntotaloffers = mdl.integer_var(lb=0)\nbudgetSpent = mdl.continuous_var()"
        },
        {
            "cell_type": "markdown",
            "metadata": {},
            "source": "#### Set up the constraints\n- Offer only one product per customer.\n- Compute the budget and set a maximum for it.\n- Compute the number of offers to be made."
        },
        {
            "cell_type": "code",
            "execution_count": 6,
            "metadata": {},
            "outputs": [
                {
                    "name": "stdout",
                    "output_type": "stream",
                    "text": "Model: marketing_campaign\n - number of variables: 10109\n   - binary=10107, integer=1, continuous=1\n - number of constraints: 1127\n   - linear=1127\n - parameters: defaults\n - problem type is: MILP\n"
                }
            ],
            "source": "# At most 1 product is offered to each customer\nmdl.add_constraints( mdl.sum(channelVars[o,p,c] for p in productsR for c in channelsR) <=1\n                   for o in offersR)\n\n# Do not exceed the budget\nmdl.add_constraint( mdl.sum(channelVars[o,p,c]*channels.at[c, \"cost\"]\n                                           for o in offersR \n                                           for p in productsR \n                                           for c in channelsR)  <= availableBudget, \"budget\")  \n\n# At least 10% offers per channel\nfor c in channelsR:\n    mdl.add_constraint(mdl.sum(channelVars[o,p,c] for p in productsR for o in offersR) >= len(offers) // 10)\n\nmdl.print_information()"
        },
        {
            "cell_type": "code",
            "execution_count": 7,
            "metadata": {},
            "outputs": [],
            "source": "offers.reset_index(inplace=True)"
        },
        {
            "cell_type": "markdown",
            "metadata": {},
            "source": "#### Express the objective\n\nMaximize the expected revenue."
        },
        {
            "cell_type": "code",
            "execution_count": 8,
            "metadata": {},
            "outputs": [],
            "source": "obj = 0\n\nfor c in channelsR:\n    for p in productsR:\n        product=products[p]\n        coef = channels.at[c,\"factor\"] * value_per_product[product]\n        obj += mdl.sum(channelVars[o,p,c] * coef* offers.at[o, product] for o in offersR)\n\nmdl.maximize(obj)"
        },
        {
            "cell_type": "markdown",
            "metadata": {},
            "source": "#### Solve with Decision Optimization\n\nDepending on the size of the problem, the solve stage might fail and require the Commercial Edition of CPLEX engines, which is included in the premium environments in Watson Studio."
        },
        {
            "cell_type": "code",
            "execution_count": 9,
            "metadata": {},
            "outputs": [
                {
                    "data": {
                        "text/html": "<div></div>",
                        "text/plain": "<IPython.core.display.HTML object>"
                    },
                    "metadata": {},
                    "output_type": "display_data"
                },
                {
                    "data": {
                        "text/html": "<div></div>",
                        "text/plain": "<IPython.core.display.HTML object>"
                    },
                    "metadata": {},
                    "output_type": "display_data"
                }
            ],
            "source": "s = mdl.solve()\nassert s, \"No Solution !!!\""
        },
        {
            "cell_type": "code",
            "execution_count": 10,
            "metadata": {},
            "outputs": [
                {
                    "name": "stdout",
                    "output_type": "stream",
                    "text": "JobSolveStatus.OPTIMAL_SOLUTION\nstatus  = integer optimal solution\ntime    = 0.112909 s.\nproblem = MILP\ngap     = 0%\n\n"
                }
            ],
            "source": "print(mdl.get_solve_status())\nprint(mdl.get_solve_details())"
        },
        {
            "cell_type": "markdown",
            "metadata": {},
            "source": "### Step-2: Analyze the solution\n\nFirst, display the **Optimal Marketing Channel per customer**."
        },
        {
            "cell_type": "code",
            "execution_count": 11,
            "metadata": {},
            "outputs": [
                {
                    "name": "stdout",
                    "output_type": "stream",
                    "text": "* model marketing_campaign solved with objective = 79280.000\n*  KPI: nb offers    = 1123.000\n*  KPI: budget Spent = 24597.000\n*  KPI: gift         = 112.000\n*  KPI: newsletter   = 112.000\n*  KPI: seminar      = 899.000\n*  KPI: Savings      = 607.000\n*  KPI: Mortgage     = 374.000\n*  KPI: Pension      = 142.000\n"
                }
            ],
            "source": "totaloffers = mdl.sum(channelVars[o,p,c] \n                      for o in offersR\n                      for p in productsR \n                      for c in channelsR)\n\nmdl.add_kpi(totaloffers, \"nb offers\")\n\nbudgetSpent = mdl.sum(channelVars[o,p,c]*channels.at[c,\"cost\"]\n                                           for o in offersR \n                                           for p in productsR \n                                           for c in channelsR)\nmdl.add_kpi(budgetSpent, \"budget Spent\")\n\nfor c in channelsR:\n    channel = channels.at[c,\"name\"]\n    kpi = mdl.sum(channelVars[o,p,c] for p in productsR for o in offersR)\n    mdl.add_kpi(kpi, channel)\n\nfor p in productsR:\n    product = products[p]\n    kpi = mdl.sum(channelVars[o,p,c] for c in channelsR for o in offersR)\n    mdl.add_kpi(kpi, product)\n    \nmdl.report()"
        },
        {
            "cell_type": "code",
            "execution_count": 12,
            "metadata": {},
            "outputs": [
                {
                    "name": "stdout",
                    "output_type": "stream",
                    "text": "Marketing plan has 1123 offers costing 24597.0\n"
                },
                {
                    "data": {
                        "text/html": "<div>\n<style scoped>\n    .dataframe tbody tr th:only-of-type {\n        vertical-align: middle;\n    }\n\n    .dataframe tbody tr th {\n        vertical-align: top;\n    }\n\n    .dataframe thead th {\n        text-align: right;\n    }\n</style>\n<table border=\"1\" class=\"dataframe\">\n  <thead>\n    <tr style=\"text-align: right;\">\n      <th></th>\n      <th>customer_id</th>\n      <th>channel</th>\n      <th>product</th>\n      <th>cost</th>\n    </tr>\n  </thead>\n  <tbody>\n    <tr>\n      <th>0</th>\n      <td>55728</td>\n      <td>gift</td>\n      <td>Savings</td>\n      <td>20.0</td>\n    </tr>\n    <tr>\n      <th>1</th>\n      <td>94027</td>\n      <td>gift</td>\n      <td>Savings</td>\n      <td>20.0</td>\n    </tr>\n    <tr>\n      <th>2</th>\n      <td>56258</td>\n      <td>gift</td>\n      <td>Savings</td>\n      <td>20.0</td>\n    </tr>\n    <tr>\n      <th>3</th>\n      <td>58943</td>\n      <td>gift</td>\n      <td>Savings</td>\n      <td>20.0</td>\n    </tr>\n    <tr>\n      <th>4</th>\n      <td>49240</td>\n      <td>gift</td>\n      <td>Savings</td>\n      <td>20.0</td>\n    </tr>\n    <tr>\n      <th>5</th>\n      <td>49293</td>\n      <td>gift</td>\n      <td>Savings</td>\n      <td>20.0</td>\n    </tr>\n    <tr>\n      <th>6</th>\n      <td>58456</td>\n      <td>gift</td>\n      <td>Savings</td>\n      <td>20.0</td>\n    </tr>\n    <tr>\n      <th>7</th>\n      <td>60877</td>\n      <td>gift</td>\n      <td>Savings</td>\n      <td>20.0</td>\n    </tr>\n    <tr>\n      <th>8</th>\n      <td>73798</td>\n      <td>gift</td>\n      <td>Savings</td>\n      <td>20.0</td>\n    </tr>\n    <tr>\n      <th>9</th>\n      <td>52777</td>\n      <td>gift</td>\n      <td>Savings</td>\n      <td>20.0</td>\n    </tr>\n    <tr>\n      <th>10</th>\n      <td>59897</td>\n      <td>gift</td>\n      <td>Savings</td>\n      <td>20.0</td>\n    </tr>\n    <tr>\n      <th>11</th>\n      <td>57586</td>\n      <td>gift</td>\n      <td>Savings</td>\n      <td>20.0</td>\n    </tr>\n    <tr>\n      <th>12</th>\n      <td>60385</td>\n      <td>gift</td>\n      <td>Savings</td>\n      <td>20.0</td>\n    </tr>\n    <tr>\n      <th>13</th>\n      <td>60929</td>\n      <td>gift</td>\n      <td>Savings</td>\n      <td>20.0</td>\n    </tr>\n    <tr>\n      <th>14</th>\n      <td>61538</td>\n      <td>gift</td>\n      <td>Savings</td>\n      <td>20.0</td>\n    </tr>\n    <tr>\n      <th>15</th>\n      <td>49297</td>\n      <td>gift</td>\n      <td>Savings</td>\n      <td>20.0</td>\n    </tr>\n    <tr>\n      <th>16</th>\n      <td>50153</td>\n      <td>gift</td>\n      <td>Savings</td>\n      <td>20.0</td>\n    </tr>\n    <tr>\n      <th>17</th>\n      <td>45822</td>\n      <td>gift</td>\n      <td>Savings</td>\n      <td>20.0</td>\n    </tr>\n    <tr>\n      <th>18</th>\n      <td>81764</td>\n      <td>gift</td>\n      <td>Savings</td>\n      <td>20.0</td>\n    </tr>\n    <tr>\n      <th>19</th>\n      <td>56659</td>\n      <td>gift</td>\n      <td>Savings</td>\n      <td>20.0</td>\n    </tr>\n    <tr>\n      <th>20</th>\n      <td>46714</td>\n      <td>gift</td>\n      <td>Savings</td>\n      <td>20.0</td>\n    </tr>\n    <tr>\n      <th>21</th>\n      <td>70296</td>\n      <td>gift</td>\n      <td>Savings</td>\n      <td>20.0</td>\n    </tr>\n    <tr>\n      <th>22</th>\n      <td>47640</td>\n      <td>gift</td>\n      <td>Savings</td>\n      <td>20.0</td>\n    </tr>\n    <tr>\n      <th>23</th>\n      <td>45945</td>\n      <td>gift</td>\n      <td>Savings</td>\n      <td>20.0</td>\n    </tr>\n    <tr>\n      <th>24</th>\n      <td>46148</td>\n      <td>gift</td>\n      <td>Savings</td>\n      <td>20.0</td>\n    </tr>\n    <tr>\n      <th>25</th>\n      <td>53726</td>\n      <td>gift</td>\n      <td>Savings</td>\n      <td>20.0</td>\n    </tr>\n    <tr>\n      <th>26</th>\n      <td>80986</td>\n      <td>gift</td>\n      <td>Savings</td>\n      <td>20.0</td>\n    </tr>\n    <tr>\n      <th>27</th>\n      <td>55740</td>\n      <td>gift</td>\n      <td>Savings</td>\n      <td>20.0</td>\n    </tr>\n    <tr>\n      <th>28</th>\n      <td>51881</td>\n      <td>gift</td>\n      <td>Savings</td>\n      <td>20.0</td>\n    </tr>\n    <tr>\n      <th>29</th>\n      <td>60732</td>\n      <td>gift</td>\n      <td>Savings</td>\n      <td>20.0</td>\n    </tr>\n    <tr>\n      <th>...</th>\n      <td>...</td>\n      <td>...</td>\n      <td>...</td>\n      <td>...</td>\n    </tr>\n    <tr>\n      <th>3339</th>\n      <td>15410</td>\n      <td>seminar</td>\n      <td>Pension</td>\n      <td>23.0</td>\n    </tr>\n    <tr>\n      <th>3340</th>\n      <td>12285</td>\n      <td>seminar</td>\n      <td>Pension</td>\n      <td>23.0</td>\n    </tr>\n    <tr>\n      <th>3341</th>\n      <td>36208</td>\n      <td>seminar</td>\n      <td>Pension</td>\n      <td>23.0</td>\n    </tr>\n    <tr>\n      <th>3342</th>\n      <td>884</td>\n      <td>seminar</td>\n      <td>Pension</td>\n      <td>23.0</td>\n    </tr>\n    <tr>\n      <th>3343</th>\n      <td>70695</td>\n      <td>seminar</td>\n      <td>Pension</td>\n      <td>23.0</td>\n    </tr>\n    <tr>\n      <th>3344</th>\n      <td>89243</td>\n      <td>seminar</td>\n      <td>Pension</td>\n      <td>23.0</td>\n    </tr>\n    <tr>\n      <th>3345</th>\n      <td>50390</td>\n      <td>seminar</td>\n      <td>Pension</td>\n      <td>23.0</td>\n    </tr>\n    <tr>\n      <th>3346</th>\n      <td>2366</td>\n      <td>seminar</td>\n      <td>Pension</td>\n      <td>23.0</td>\n    </tr>\n    <tr>\n      <th>3347</th>\n      <td>1191</td>\n      <td>seminar</td>\n      <td>Pension</td>\n      <td>23.0</td>\n    </tr>\n    <tr>\n      <th>3348</th>\n      <td>50038</td>\n      <td>seminar</td>\n      <td>Pension</td>\n      <td>23.0</td>\n    </tr>\n    <tr>\n      <th>3349</th>\n      <td>30532</td>\n      <td>seminar</td>\n      <td>Pension</td>\n      <td>23.0</td>\n    </tr>\n    <tr>\n      <th>3350</th>\n      <td>46250</td>\n      <td>seminar</td>\n      <td>Pension</td>\n      <td>23.0</td>\n    </tr>\n    <tr>\n      <th>3351</th>\n      <td>580</td>\n      <td>seminar</td>\n      <td>Pension</td>\n      <td>23.0</td>\n    </tr>\n    <tr>\n      <th>3352</th>\n      <td>51893</td>\n      <td>seminar</td>\n      <td>Pension</td>\n      <td>23.0</td>\n    </tr>\n    <tr>\n      <th>3353</th>\n      <td>2648</td>\n      <td>seminar</td>\n      <td>Pension</td>\n      <td>23.0</td>\n    </tr>\n    <tr>\n      <th>3354</th>\n      <td>10493</td>\n      <td>seminar</td>\n      <td>Pension</td>\n      <td>23.0</td>\n    </tr>\n    <tr>\n      <th>3355</th>\n      <td>19229</td>\n      <td>seminar</td>\n      <td>Pension</td>\n      <td>23.0</td>\n    </tr>\n    <tr>\n      <th>3356</th>\n      <td>58806</td>\n      <td>seminar</td>\n      <td>Pension</td>\n      <td>23.0</td>\n    </tr>\n    <tr>\n      <th>3357</th>\n      <td>16578</td>\n      <td>seminar</td>\n      <td>Pension</td>\n      <td>23.0</td>\n    </tr>\n    <tr>\n      <th>3358</th>\n      <td>51944</td>\n      <td>seminar</td>\n      <td>Pension</td>\n      <td>23.0</td>\n    </tr>\n    <tr>\n      <th>3359</th>\n      <td>47174</td>\n      <td>seminar</td>\n      <td>Pension</td>\n      <td>23.0</td>\n    </tr>\n    <tr>\n      <th>3360</th>\n      <td>12426</td>\n      <td>seminar</td>\n      <td>Pension</td>\n      <td>23.0</td>\n    </tr>\n    <tr>\n      <th>3361</th>\n      <td>50038</td>\n      <td>seminar</td>\n      <td>Pension</td>\n      <td>23.0</td>\n    </tr>\n    <tr>\n      <th>3362</th>\n      <td>16462</td>\n      <td>seminar</td>\n      <td>Pension</td>\n      <td>23.0</td>\n    </tr>\n    <tr>\n      <th>3363</th>\n      <td>21121</td>\n      <td>seminar</td>\n      <td>Pension</td>\n      <td>23.0</td>\n    </tr>\n    <tr>\n      <th>3364</th>\n      <td>14679</td>\n      <td>seminar</td>\n      <td>Pension</td>\n      <td>23.0</td>\n    </tr>\n    <tr>\n      <th>3365</th>\n      <td>1987</td>\n      <td>seminar</td>\n      <td>Pension</td>\n      <td>23.0</td>\n    </tr>\n    <tr>\n      <th>3366</th>\n      <td>12778</td>\n      <td>seminar</td>\n      <td>Pension</td>\n      <td>23.0</td>\n    </tr>\n    <tr>\n      <th>3367</th>\n      <td>40719</td>\n      <td>seminar</td>\n      <td>Pension</td>\n      <td>23.0</td>\n    </tr>\n    <tr>\n      <th>3368</th>\n      <td>23228</td>\n      <td>seminar</td>\n      <td>Pension</td>\n      <td>23.0</td>\n    </tr>\n  </tbody>\n</table>\n<p>3369 rows \u00d7 4 columns</p>\n</div>",
                        "text/plain": "      customer_id  channel  product  cost\n0           55728     gift  Savings  20.0\n1           94027     gift  Savings  20.0\n2           56258     gift  Savings  20.0\n3           58943     gift  Savings  20.0\n4           49240     gift  Savings  20.0\n5           49293     gift  Savings  20.0\n6           58456     gift  Savings  20.0\n7           60877     gift  Savings  20.0\n8           73798     gift  Savings  20.0\n9           52777     gift  Savings  20.0\n10          59897     gift  Savings  20.0\n11          57586     gift  Savings  20.0\n12          60385     gift  Savings  20.0\n13          60929     gift  Savings  20.0\n14          61538     gift  Savings  20.0\n15          49297     gift  Savings  20.0\n16          50153     gift  Savings  20.0\n17          45822     gift  Savings  20.0\n18          81764     gift  Savings  20.0\n19          56659     gift  Savings  20.0\n20          46714     gift  Savings  20.0\n21          70296     gift  Savings  20.0\n22          47640     gift  Savings  20.0\n23          45945     gift  Savings  20.0\n24          46148     gift  Savings  20.0\n25          53726     gift  Savings  20.0\n26          80986     gift  Savings  20.0\n27          55740     gift  Savings  20.0\n28          51881     gift  Savings  20.0\n29          60732     gift  Savings  20.0\n...           ...      ...      ...   ...\n3339        15410  seminar  Pension  23.0\n3340        12285  seminar  Pension  23.0\n3341        36208  seminar  Pension  23.0\n3342          884  seminar  Pension  23.0\n3343        70695  seminar  Pension  23.0\n3344        89243  seminar  Pension  23.0\n3345        50390  seminar  Pension  23.0\n3346         2366  seminar  Pension  23.0\n3347         1191  seminar  Pension  23.0\n3348        50038  seminar  Pension  23.0\n3349        30532  seminar  Pension  23.0\n3350        46250  seminar  Pension  23.0\n3351          580  seminar  Pension  23.0\n3352        51893  seminar  Pension  23.0\n3353         2648  seminar  Pension  23.0\n3354        10493  seminar  Pension  23.0\n3355        19229  seminar  Pension  23.0\n3356        58806  seminar  Pension  23.0\n3357        16578  seminar  Pension  23.0\n3358        51944  seminar  Pension  23.0\n3359        47174  seminar  Pension  23.0\n3360        12426  seminar  Pension  23.0\n3361        50038  seminar  Pension  23.0\n3362        16462  seminar  Pension  23.0\n3363        21121  seminar  Pension  23.0\n3364        14679  seminar  Pension  23.0\n3365         1987  seminar  Pension  23.0\n3366        12778  seminar  Pension  23.0\n3367        40719  seminar  Pension  23.0\n3368        23228  seminar  Pension  23.0\n\n[3369 rows x 4 columns]"
                    },
                    "metadata": {},
                    "output_type": "display_data"
                }
            ],
            "source": "report = [(offers.at[o, \"id\"],channels.at[n, \"name\"], products[p],channels.at[c, \"cost\"]) \n          for c in channelsR\n          for n in channelsR\n          for p in productsR \n          for o in offersR  if channelVars[o,p,c].solution_value==1]\n\n\n\nprint(\"Marketing plan has {0} offers costing {1}\".format(totaloffers.solution_value, budgetSpent.solution_value))\n\nreport_bd = pd.DataFrame(report, columns=['customer_id','channel', 'product','cost'])\ndisplay(report_bd)"
        },
        {
            "cell_type": "markdown",
            "metadata": {},
            "source": "\n## Summary\n\n\nYou have learned how to set up and use IBM Decision Optimization CPLEX Modeling for Python to formulate a Mathematical Programming model and solve it with CPLEX.\n"
        },
        {
            "cell_type": "markdown",
            "metadata": {
                "collapsed": true
            },
            "source": "## References\n* <a href=\"https://rawgit.com/IBMDecisionOptimization/docplex-doc/master/docs/index.html\" target=\"_blank\" rel=\"noopener noreferrer\">Decision Optimization CPLEX Modeling for Python documentation</a>\n* <a href=\"https://dataplatform.cloud.ibm.com/docs/content/getting-started/welcome-main.html?audience=wdp&context=wdp\" target=\"_blank\" rel=\"noopener noreferrer\">Watson Studio documentation</a>\n"
        },
        {
            "cell_type": "markdown",
            "metadata": {},
            "source": "<hr>\nCopyright \u00a9 2017-2019. This notebook and its source code are released under the terms of the MIT License."
        }
    ],
    "metadata": {
        "kernelspec": {
            "display_name": "Python 3.6",
            "language": "python",
            "name": "python3"
        },
        "language_info": {
            "codemirror_mode": {
                "name": "ipython",
                "version": 3
            },
            "file_extension": ".py",
            "mimetype": "text/x-python",
            "name": "python",
            "nbconvert_exporter": "python",
            "pygments_lexer": "ipython3",
            "version": "3.6.9"
        }
    },
    "nbformat": 4,
    "nbformat_minor": 1
}